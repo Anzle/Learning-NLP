{
 "cells": [
  {
   "cell_type": "code",
   "execution_count": 1,
   "metadata": {
    "collapsed": true
   },
   "outputs": [],
   "source": [
    "# Remove common words that might be found in any books\n",
    "# My way"
   ]
  },
  {
   "cell_type": "code",
   "execution_count": 5,
   "metadata": {
    "collapsed": true
   },
   "outputs": [],
   "source": [
    "import nltk"
   ]
  },
  {
   "cell_type": "code",
   "execution_count": 3,
   "metadata": {
    "collapsed": true
   },
   "outputs": [],
   "source": [
    "from nltk.corpus import gutenberg as gb"
   ]
  },
  {
   "cell_type": "code",
   "execution_count": 5,
   "metadata": {
    "collapsed": true
   },
   "outputs": [],
   "source": [
    "# Remove most common 10 words"
   ]
  },
  {
   "cell_type": "code",
   "execution_count": 6,
   "metadata": {
    "collapsed": false
   },
   "outputs": [
    {
     "ename": "AttributeError",
     "evalue": "'StreamBackedCorpusView' object has no attribute 'most_common'",
     "output_type": "error",
     "traceback": [
      "\u001b[1;31m---------------------------------------------------------------------------\u001b[0m",
      "\u001b[1;31mAttributeError\u001b[0m                            Traceback (most recent call last)",
      "\u001b[1;32m<ipython-input-6-a0302fab2ece>\u001b[0m in \u001b[0;36m<module>\u001b[1;34m()\u001b[0m\n\u001b[1;32m----> 1\u001b[1;33m \u001b[0mmost_common\u001b[0m \u001b[1;33m=\u001b[0m \u001b[1;33m[\u001b[0m\u001b[0mnltk\u001b[0m\u001b[1;33m.\u001b[0m\u001b[0mFreqDist\u001b[0m\u001b[1;33m(\u001b[0m\u001b[1;33m(\u001b[0m\u001b[0mgb\u001b[0m\u001b[1;33m.\u001b[0m\u001b[0mwords\u001b[0m\u001b[1;33m(\u001b[0m\u001b[0mbook\u001b[0m\u001b[1;33m)\u001b[0m\u001b[1;33m)\u001b[0m\u001b[1;33m.\u001b[0m\u001b[0mmost_common\u001b[0m\u001b[1;33m(\u001b[0m\u001b[1;36m10\u001b[0m\u001b[1;33m)\u001b[0m\u001b[1;33m,\u001b[0m \u001b[0mbook\u001b[0m\u001b[1;33m)\u001b[0m \u001b[1;32mfor\u001b[0m \u001b[0mbook\u001b[0m \u001b[1;32min\u001b[0m \u001b[0mgb\u001b[0m\u001b[1;33m.\u001b[0m\u001b[0mfileids\u001b[0m\u001b[1;33m(\u001b[0m\u001b[1;33m)\u001b[0m\u001b[1;33m]\u001b[0m\u001b[1;33m\u001b[0m\u001b[0m\n\u001b[0m",
      "\u001b[1;32m<ipython-input-6-a0302fab2ece>\u001b[0m in \u001b[0;36m<listcomp>\u001b[1;34m(.0)\u001b[0m\n\u001b[1;32m----> 1\u001b[1;33m \u001b[0mmost_common\u001b[0m \u001b[1;33m=\u001b[0m \u001b[1;33m[\u001b[0m\u001b[0mnltk\u001b[0m\u001b[1;33m.\u001b[0m\u001b[0mFreqDist\u001b[0m\u001b[1;33m(\u001b[0m\u001b[1;33m(\u001b[0m\u001b[0mgb\u001b[0m\u001b[1;33m.\u001b[0m\u001b[0mwords\u001b[0m\u001b[1;33m(\u001b[0m\u001b[0mbook\u001b[0m\u001b[1;33m)\u001b[0m\u001b[1;33m)\u001b[0m\u001b[1;33m.\u001b[0m\u001b[0mmost_common\u001b[0m\u001b[1;33m(\u001b[0m\u001b[1;36m10\u001b[0m\u001b[1;33m)\u001b[0m\u001b[1;33m,\u001b[0m \u001b[0mbook\u001b[0m\u001b[1;33m)\u001b[0m \u001b[1;32mfor\u001b[0m \u001b[0mbook\u001b[0m \u001b[1;32min\u001b[0m \u001b[0mgb\u001b[0m\u001b[1;33m.\u001b[0m\u001b[0mfileids\u001b[0m\u001b[1;33m(\u001b[0m\u001b[1;33m)\u001b[0m\u001b[1;33m]\u001b[0m\u001b[1;33m\u001b[0m\u001b[0m\n\u001b[0m",
      "\u001b[1;31mAttributeError\u001b[0m: 'StreamBackedCorpusView' object has no attribute 'most_common'"
     ]
    }
   ],
   "source": [
    "most_common = [nltk.FreqDist((gb.words(book)).most_common(10), book) for book in gb.fileids()]"
   ]
  },
  {
   "cell_type": "code",
   "execution_count": 7,
   "metadata": {
    "collapsed": true
   },
   "outputs": [],
   "source": [
    "most_common = []\n",
    "for book in gb.fileids():\n",
    "    book_w = gb.words(book)\n",
    "    book_fd = nltk.FreqDist(book_w)\n",
    "    most_common.append((book_fd.most_common(10), book))"
   ]
  },
  {
   "cell_type": "code",
   "execution_count": 11,
   "metadata": {
    "collapsed": false
   },
   "outputs": [
    {
     "data": {
      "text/plain": [
       "[([(',', 11454),\n",
       "   ('.', 6928),\n",
       "   ('to', 5183),\n",
       "   ('the', 4844),\n",
       "   ('and', 4672),\n",
       "   ('of', 4279),\n",
       "   ('I', 3178),\n",
       "   ('a', 3004),\n",
       "   ('was', 2385),\n",
       "   ('her', 2381)],\n",
       "  'austen-emma.txt'),\n",
       " ([(',', 6750),\n",
       "   ('the', 3120),\n",
       "   ('to', 2775),\n",
       "   ('.', 2741),\n",
       "   ('and', 2739),\n",
       "   ('of', 2564),\n",
       "   ('a', 1529),\n",
       "   ('in', 1346),\n",
       "   ('was', 1330),\n",
       "   (';', 1290)],\n",
       "  'austen-persuasion.txt'),\n",
       " ([(',', 9397),\n",
       "   ('to', 4063),\n",
       "   ('.', 3975),\n",
       "   ('the', 3861),\n",
       "   ('of', 3565),\n",
       "   ('and', 3350),\n",
       "   ('her', 2436),\n",
       "   ('a', 2043),\n",
       "   ('I', 2004),\n",
       "   ('in', 1904)],\n",
       "  'austen-sense.txt'),\n",
       " ([(',', 70509),\n",
       "   ('the', 62103),\n",
       "   (':', 43766),\n",
       "   ('and', 38847),\n",
       "   ('of', 34480),\n",
       "   ('.', 26160),\n",
       "   ('to', 13396),\n",
       "   ('And', 12846),\n",
       "   ('that', 12576),\n",
       "   ('in', 12331)],\n",
       "  'bible-kjv.txt'),\n",
       " ([(',', 680),\n",
       "   ('the', 351),\n",
       "   ('.', 201),\n",
       "   ('And', 176),\n",
       "   ('and', 169),\n",
       "   ('of', 131),\n",
       "   ('I', 130),\n",
       "   ('in', 116),\n",
       "   ('a', 108),\n",
       "   (\"'\", 104)],\n",
       "  'blake-poems.txt'),\n",
       " ([(',', 3481),\n",
       "   ('the', 3086),\n",
       "   ('and', 1873),\n",
       "   ('.', 1817),\n",
       "   ('to', 1165),\n",
       "   ('a', 988),\n",
       "   ('\"', 900),\n",
       "   ('he', 872),\n",
       "   ('of', 801),\n",
       "   ('was', 706)],\n",
       "  'bryant-stories.txt'),\n",
       " ([('.', 823),\n",
       "   (',', 822),\n",
       "   ('the', 639),\n",
       "   ('he', 562),\n",
       "   ('and', 484),\n",
       "   ('to', 426),\n",
       "   (\"'\", 401),\n",
       "   ('of', 326),\n",
       "   ('that', 285),\n",
       "   ('a', 275)],\n",
       "  'burgess-busterbrown.txt'),\n",
       " ([(',', 1993),\n",
       "   (\"'\", 1731),\n",
       "   ('the', 1527),\n",
       "   ('and', 802),\n",
       "   ('.', 764),\n",
       "   ('to', 725),\n",
       "   ('a', 615),\n",
       "   ('I', 543),\n",
       "   ('it', 527),\n",
       "   ('she', 509)],\n",
       "  'carroll-alice.txt'),\n",
       " ([(',', 4547),\n",
       "   ('the', 4523),\n",
       "   ('.', 3589),\n",
       "   ('of', 2529),\n",
       "   ('and', 2488),\n",
       "   ('a', 2184),\n",
       "   ('\"', 1751),\n",
       "   ('to', 1558),\n",
       "   ('in', 1355),\n",
       "   ('that', 1120)],\n",
       "  'chesterton-ball.txt'),\n",
       " ([('the', 4321),\n",
       "   (',', 4069),\n",
       "   ('.', 2784),\n",
       "   ('of', 2087),\n",
       "   ('and', 2074),\n",
       "   ('a', 2074),\n",
       "   ('\"', 1461),\n",
       "   ('to', 1378),\n",
       "   ('in', 1205),\n",
       "   ('was', 1141)],\n",
       "  'chesterton-brown.txt'),\n",
       " ([(',', 3488),\n",
       "   ('the', 3291),\n",
       "   ('.', 2717),\n",
       "   ('a', 1713),\n",
       "   ('of', 1710),\n",
       "   ('and', 1568),\n",
       "   ('\"', 1336),\n",
       "   ('to', 1045),\n",
       "   ('in', 888),\n",
       "   ('I', 885)],\n",
       "  'chesterton-thursday.txt'),\n",
       " ([(',', 15219),\n",
       "   ('the', 7149),\n",
       "   ('.', 6945),\n",
       "   ('to', 5150),\n",
       "   ('and', 4769),\n",
       "   ('\"', 3880),\n",
       "   ('of', 3730),\n",
       "   ('I', 3656),\n",
       "   (\"'\", 3293),\n",
       "   ('a', 3017)],\n",
       "  'edgeworth-parents.txt'),\n",
       " ([(',', 18713),\n",
       "   ('the', 13721),\n",
       "   ('.', 6862),\n",
       "   ('of', 6536),\n",
       "   ('and', 6024),\n",
       "   ('a', 4569),\n",
       "   ('to', 4542),\n",
       "   (';', 4072),\n",
       "   ('in', 3916),\n",
       "   ('that', 2982)],\n",
       "  'melville-moby_dick.txt'),\n",
       " ([(',', 10198),\n",
       "   ('and', 2799),\n",
       "   ('the', 2505),\n",
       "   (';', 2317),\n",
       "   ('to', 1758),\n",
       "   ('of', 1486),\n",
       "   ('.', 1254),\n",
       "   ('in', 1083),\n",
       "   ('his', 986),\n",
       "   ('with', 876)],\n",
       "  'milton-paradise.txt'),\n",
       " ([(',', 2204),\n",
       "   ('.', 1296),\n",
       "   ('I', 531),\n",
       "   ('the', 502),\n",
       "   (':', 499),\n",
       "   ('and', 409),\n",
       "   (\"'\", 384),\n",
       "   ('to', 370),\n",
       "   ('you', 342),\n",
       "   ('of', 336)],\n",
       "  'shakespeare-caesar.txt'),\n",
       " ([(',', 2892),\n",
       "   ('.', 1886),\n",
       "   ('the', 860),\n",
       "   (\"'\", 729),\n",
       "   ('and', 606),\n",
       "   ('of', 576),\n",
       "   ('to', 576),\n",
       "   (':', 565),\n",
       "   ('I', 553),\n",
       "   ('you', 479)],\n",
       "  'shakespeare-hamlet.txt'),\n",
       " ([(',', 1962),\n",
       "   ('.', 1235),\n",
       "   (\"'\", 637),\n",
       "   ('the', 531),\n",
       "   (':', 477),\n",
       "   ('and', 376),\n",
       "   ('I', 333),\n",
       "   ('of', 315),\n",
       "   ('to', 311),\n",
       "   ('?', 241)],\n",
       "  'shakespeare-macbeth.txt'),\n",
       " ([(',', 17713),\n",
       "   ('the', 8814),\n",
       "   ('and', 4797),\n",
       "   ('of', 4127),\n",
       "   ('I', 2932),\n",
       "   (\"'\", 2362),\n",
       "   ('to', 1930),\n",
       "   ('-', 1774),\n",
       "   ('.', 1769),\n",
       "   ('in', 1714)],\n",
       "  'whitman-leaves.txt')]"
      ]
     },
     "execution_count": 11,
     "metadata": {},
     "output_type": "execute_result"
    }
   ],
   "source": [
    "most_common"
   ]
  },
  {
   "cell_type": "code",
   "execution_count": 9,
   "metadata": {
    "collapsed": false
   },
   "outputs": [],
   "source": [
    "most_common = []\n",
    "for book in gb.fileids():\n",
    "    book_w = gb.words(book)\n",
    "    book_fd = nltk.FreqDist(book_w)\n",
    "    most_common.extend(book_fd.most_common(10))"
   ]
  },
  {
   "cell_type": "code",
   "execution_count": 10,
   "metadata": {
    "collapsed": true
   },
   "outputs": [],
   "source": [
    "set_most_common = set(most_common)"
   ]
  },
  {
   "cell_type": "code",
   "execution_count": 11,
   "metadata": {
    "collapsed": false
   },
   "outputs": [
    {
     "data": {
      "text/plain": [
       "{('\"', 900),\n",
       " ('\"', 1336),\n",
       " ('\"', 1461),\n",
       " ('\"', 1751),\n",
       " ('\"', 3880),\n",
       " (\"'\", 104),\n",
       " (\"'\", 384),\n",
       " (\"'\", 401),\n",
       " (\"'\", 637),\n",
       " (\"'\", 729),\n",
       " (\"'\", 1731),\n",
       " (\"'\", 2362),\n",
       " (\"'\", 3293),\n",
       " (',', 680),\n",
       " (',', 822),\n",
       " (',', 1962),\n",
       " (',', 1993),\n",
       " (',', 2204),\n",
       " (',', 2892),\n",
       " (',', 3481),\n",
       " (',', 3488),\n",
       " (',', 4069),\n",
       " (',', 4547),\n",
       " (',', 6750),\n",
       " (',', 9397),\n",
       " (',', 10198),\n",
       " (',', 11454),\n",
       " (',', 15219),\n",
       " (',', 17713),\n",
       " (',', 18713),\n",
       " (',', 70509),\n",
       " ('-', 1774),\n",
       " ('.', 201),\n",
       " ('.', 764),\n",
       " ('.', 823),\n",
       " ('.', 1235),\n",
       " ('.', 1254),\n",
       " ('.', 1296),\n",
       " ('.', 1769),\n",
       " ('.', 1817),\n",
       " ('.', 1886),\n",
       " ('.', 2717),\n",
       " ('.', 2741),\n",
       " ('.', 2784),\n",
       " ('.', 3589),\n",
       " ('.', 3975),\n",
       " ('.', 6862),\n",
       " ('.', 6928),\n",
       " ('.', 6945),\n",
       " ('.', 26160),\n",
       " (':', 477),\n",
       " (':', 499),\n",
       " (':', 565),\n",
       " (':', 43766),\n",
       " (';', 1290),\n",
       " (';', 2317),\n",
       " (';', 4072),\n",
       " ('?', 241),\n",
       " ('And', 176),\n",
       " ('And', 12846),\n",
       " ('I', 130),\n",
       " ('I', 333),\n",
       " ('I', 531),\n",
       " ('I', 543),\n",
       " ('I', 553),\n",
       " ('I', 885),\n",
       " ('I', 2004),\n",
       " ('I', 2932),\n",
       " ('I', 3178),\n",
       " ('I', 3656),\n",
       " ('a', 108),\n",
       " ('a', 275),\n",
       " ('a', 615),\n",
       " ('a', 988),\n",
       " ('a', 1529),\n",
       " ('a', 1713),\n",
       " ('a', 2043),\n",
       " ('a', 2074),\n",
       " ('a', 2184),\n",
       " ('a', 3004),\n",
       " ('a', 3017),\n",
       " ('a', 4569),\n",
       " ('and', 169),\n",
       " ('and', 376),\n",
       " ('and', 409),\n",
       " ('and', 484),\n",
       " ('and', 606),\n",
       " ('and', 802),\n",
       " ('and', 1568),\n",
       " ('and', 1873),\n",
       " ('and', 2074),\n",
       " ('and', 2488),\n",
       " ('and', 2739),\n",
       " ('and', 2799),\n",
       " ('and', 3350),\n",
       " ('and', 4672),\n",
       " ('and', 4769),\n",
       " ('and', 4797),\n",
       " ('and', 6024),\n",
       " ('and', 38847),\n",
       " ('he', 562),\n",
       " ('he', 872),\n",
       " ('her', 2381),\n",
       " ('her', 2436),\n",
       " ('his', 986),\n",
       " ('in', 116),\n",
       " ('in', 888),\n",
       " ('in', 1083),\n",
       " ('in', 1205),\n",
       " ('in', 1346),\n",
       " ('in', 1355),\n",
       " ('in', 1714),\n",
       " ('in', 1904),\n",
       " ('in', 3916),\n",
       " ('in', 12331),\n",
       " ('it', 527),\n",
       " ('of', 131),\n",
       " ('of', 315),\n",
       " ('of', 326),\n",
       " ('of', 336),\n",
       " ('of', 576),\n",
       " ('of', 801),\n",
       " ('of', 1486),\n",
       " ('of', 1710),\n",
       " ('of', 2087),\n",
       " ('of', 2529),\n",
       " ('of', 2564),\n",
       " ('of', 3565),\n",
       " ('of', 3730),\n",
       " ('of', 4127),\n",
       " ('of', 4279),\n",
       " ('of', 6536),\n",
       " ('of', 34480),\n",
       " ('she', 509),\n",
       " ('that', 285),\n",
       " ('that', 1120),\n",
       " ('that', 2982),\n",
       " ('that', 12576),\n",
       " ('the', 351),\n",
       " ('the', 502),\n",
       " ('the', 531),\n",
       " ('the', 639),\n",
       " ('the', 860),\n",
       " ('the', 1527),\n",
       " ('the', 2505),\n",
       " ('the', 3086),\n",
       " ('the', 3120),\n",
       " ('the', 3291),\n",
       " ('the', 3861),\n",
       " ('the', 4321),\n",
       " ('the', 4523),\n",
       " ('the', 4844),\n",
       " ('the', 7149),\n",
       " ('the', 8814),\n",
       " ('the', 13721),\n",
       " ('the', 62103),\n",
       " ('to', 311),\n",
       " ('to', 370),\n",
       " ('to', 426),\n",
       " ('to', 576),\n",
       " ('to', 725),\n",
       " ('to', 1045),\n",
       " ('to', 1165),\n",
       " ('to', 1378),\n",
       " ('to', 1558),\n",
       " ('to', 1758),\n",
       " ('to', 1930),\n",
       " ('to', 2775),\n",
       " ('to', 4063),\n",
       " ('to', 4542),\n",
       " ('to', 5150),\n",
       " ('to', 5183),\n",
       " ('to', 13396),\n",
       " ('was', 706),\n",
       " ('was', 1141),\n",
       " ('was', 1330),\n",
       " ('was', 2385),\n",
       " ('with', 876),\n",
       " ('you', 342),\n",
       " ('you', 479)}"
      ]
     },
     "execution_count": 11,
     "metadata": {},
     "output_type": "execute_result"
    }
   ],
   "source": [
    "set_most_common"
   ]
  },
  {
   "cell_type": "code",
   "execution_count": 12,
   "metadata": {
    "collapsed": true
   },
   "outputs": [],
   "source": [
    "set_common = set([])"
   ]
  },
  {
   "cell_type": "code",
   "execution_count": 13,
   "metadata": {
    "collapsed": false
   },
   "outputs": [
    {
     "ename": "ValueError",
     "evalue": "not enough values to unpack (expected 2, got 1)",
     "output_type": "error",
     "traceback": [
      "\u001b[0;31m---------------------------------------------------------------------------\u001b[0m",
      "\u001b[0;31mValueError\u001b[0m                                Traceback (most recent call last)",
      "\u001b[0;32m<ipython-input-13-8b5d9e631e35>\u001b[0m in \u001b[0;36m<module>\u001b[0;34m()\u001b[0m\n\u001b[1;32m      2\u001b[0m     \u001b[0mbook_w\u001b[0m \u001b[1;33m=\u001b[0m \u001b[0mgb\u001b[0m\u001b[1;33m.\u001b[0m\u001b[0mwords\u001b[0m\u001b[1;33m(\u001b[0m\u001b[0mbook\u001b[0m\u001b[1;33m)\u001b[0m\u001b[1;33m\u001b[0m\u001b[0m\n\u001b[1;32m      3\u001b[0m     \u001b[0mbook_fd\u001b[0m \u001b[1;33m=\u001b[0m \u001b[0mnltk\u001b[0m\u001b[1;33m.\u001b[0m\u001b[0mFreqDist\u001b[0m\u001b[1;33m(\u001b[0m\u001b[0mbook_w\u001b[0m\u001b[1;33m)\u001b[0m\u001b[1;33m\u001b[0m\u001b[0m\n\u001b[0;32m----> 4\u001b[0;31m     \u001b[0mbook_most_common\u001b[0m \u001b[1;33m=\u001b[0m \u001b[1;33m[\u001b[0m\u001b[0mw\u001b[0m \u001b[1;32mfor\u001b[0m \u001b[0mw\u001b[0m\u001b[1;33m,\u001b[0m\u001b[0mc\u001b[0m \u001b[1;32min\u001b[0m \u001b[0mbook_fd\u001b[0m\u001b[1;33m]\u001b[0m\u001b[1;33m\u001b[0m\u001b[0m\n\u001b[0m\u001b[1;32m      5\u001b[0m     \u001b[0mset_common\u001b[0m\u001b[1;33m.\u001b[0m\u001b[0mextend\u001b[0m\u001b[1;33m(\u001b[0m\u001b[0mbook_most_common\u001b[0m\u001b[1;33m)\u001b[0m\u001b[1;33m\u001b[0m\u001b[0m\n",
      "\u001b[0;32m<ipython-input-13-8b5d9e631e35>\u001b[0m in \u001b[0;36m<listcomp>\u001b[0;34m(.0)\u001b[0m\n\u001b[1;32m      2\u001b[0m     \u001b[0mbook_w\u001b[0m \u001b[1;33m=\u001b[0m \u001b[0mgb\u001b[0m\u001b[1;33m.\u001b[0m\u001b[0mwords\u001b[0m\u001b[1;33m(\u001b[0m\u001b[0mbook\u001b[0m\u001b[1;33m)\u001b[0m\u001b[1;33m\u001b[0m\u001b[0m\n\u001b[1;32m      3\u001b[0m     \u001b[0mbook_fd\u001b[0m \u001b[1;33m=\u001b[0m \u001b[0mnltk\u001b[0m\u001b[1;33m.\u001b[0m\u001b[0mFreqDist\u001b[0m\u001b[1;33m(\u001b[0m\u001b[0mbook_w\u001b[0m\u001b[1;33m)\u001b[0m\u001b[1;33m\u001b[0m\u001b[0m\n\u001b[0;32m----> 4\u001b[0;31m     \u001b[0mbook_most_common\u001b[0m \u001b[1;33m=\u001b[0m \u001b[1;33m[\u001b[0m\u001b[0mw\u001b[0m \u001b[1;32mfor\u001b[0m \u001b[0mw\u001b[0m\u001b[1;33m,\u001b[0m\u001b[0mc\u001b[0m \u001b[1;32min\u001b[0m \u001b[0mbook_fd\u001b[0m\u001b[1;33m]\u001b[0m\u001b[1;33m\u001b[0m\u001b[0m\n\u001b[0m\u001b[1;32m      5\u001b[0m     \u001b[0mset_common\u001b[0m\u001b[1;33m.\u001b[0m\u001b[0mextend\u001b[0m\u001b[1;33m(\u001b[0m\u001b[0mbook_most_common\u001b[0m\u001b[1;33m)\u001b[0m\u001b[1;33m\u001b[0m\u001b[0m\n",
      "\u001b[0;31mValueError\u001b[0m: not enough values to unpack (expected 2, got 1)"
     ]
    }
   ],
   "source": [
    "for book in gb.fileids():\n",
    "    book_w = gb.words(book)\n",
    "    book_fd = nltk.FreqDist(book_w)\n",
    "    book_most_common = [w for w,c in book_fd]\n",
    "    set_common.extend(book_most_common)"
   ]
  },
  {
   "cell_type": "code",
   "execution_count": 14,
   "metadata": {
    "collapsed": true
   },
   "outputs": [],
   "source": [
    "book_fd = nltk.FreqDist(gb.words(gb.fileids()[0]))\n"
   ]
  },
  {
   "cell_type": "code",
   "execution_count": 15,
   "metadata": {
    "collapsed": false
   },
   "outputs": [
    {
     "data": {
      "text/plain": [
       "[(',', 11454),\n",
       " ('.', 6928),\n",
       " ('to', 5183),\n",
       " ('the', 4844),\n",
       " ('and', 4672),\n",
       " ('of', 4279),\n",
       " ('I', 3178),\n",
       " ('a', 3004),\n",
       " ('was', 2385),\n",
       " ('her', 2381)]"
      ]
     },
     "execution_count": 15,
     "metadata": {},
     "output_type": "execute_result"
    }
   ],
   "source": [
    "book_fd.most_common(10)"
   ]
  },
  {
   "cell_type": "code",
   "execution_count": 16,
   "metadata": {
    "collapsed": true
   },
   "outputs": [],
   "source": [
    "most_common = nltk.FreqDist(gb.words(gb.fileids()[0])).most_common(10)"
   ]
  },
  {
   "cell_type": "code",
   "execution_count": 17,
   "metadata": {
    "collapsed": false
   },
   "outputs": [
    {
     "data": {
      "text/plain": [
       "[(',', 11454),\n",
       " ('.', 6928),\n",
       " ('to', 5183),\n",
       " ('the', 4844),\n",
       " ('and', 4672),\n",
       " ('of', 4279),\n",
       " ('I', 3178),\n",
       " ('a', 3004),\n",
       " ('was', 2385),\n",
       " ('her', 2381)]"
      ]
     },
     "execution_count": 17,
     "metadata": {},
     "output_type": "execute_result"
    }
   ],
   "source": [
    "most_common"
   ]
  },
  {
   "cell_type": "code",
   "execution_count": 18,
   "metadata": {
    "collapsed": true
   },
   "outputs": [],
   "source": [
    "set_common = set([w for w,c in most_common])"
   ]
  },
  {
   "cell_type": "code",
   "execution_count": 19,
   "metadata": {
    "collapsed": false
   },
   "outputs": [
    {
     "data": {
      "text/plain": [
       "{',', '.', 'I', 'a', 'and', 'her', 'of', 'the', 'to', 'was'}"
      ]
     },
     "execution_count": 19,
     "metadata": {},
     "output_type": "execute_result"
    }
   ],
   "source": [
    "set_common"
   ]
  },
  {
   "cell_type": "code",
   "execution_count": 20,
   "metadata": {
    "collapsed": true
   },
   "outputs": [],
   "source": [
    "# ok so I can use the set_common line with the most_common line to get these words into a set"
   ]
  },
  {
   "cell_type": "code",
   "execution_count": 25,
   "metadata": {
    "collapsed": false
   },
   "outputs": [],
   "source": [
    "total_set = set()"
   ]
  },
  {
   "cell_type": "code",
   "execution_count": 26,
   "metadata": {
    "collapsed": false
   },
   "outputs": [
    {
     "ename": "AttributeError",
     "evalue": "'set' object has no attribute 'extend'",
     "output_type": "error",
     "traceback": [
      "\u001b[0;31m---------------------------------------------------------------------------\u001b[0m",
      "\u001b[0;31mAttributeError\u001b[0m                            Traceback (most recent call last)",
      "\u001b[0;32m<ipython-input-26-5655310633f8>\u001b[0m in \u001b[0;36m<module>\u001b[0;34m()\u001b[0m\n\u001b[0;32m----> 1\u001b[0;31m \u001b[0mtotal_set\u001b[0m\u001b[1;33m.\u001b[0m\u001b[0mextend\u001b[0m\u001b[1;33m(\u001b[0m\u001b[1;33m[\u001b[0m\u001b[0mw\u001b[0m \u001b[1;32mfor\u001b[0m \u001b[0mw\u001b[0m\u001b[1;33m,\u001b[0m\u001b[0mc\u001b[0m \u001b[1;32min\u001b[0m \u001b[0mnltk\u001b[0m\u001b[1;33m.\u001b[0m\u001b[0mFreqDist\u001b[0m\u001b[1;33m(\u001b[0m\u001b[0mgb\u001b[0m\u001b[1;33m.\u001b[0m\u001b[0mwords\u001b[0m\u001b[1;33m(\u001b[0m\u001b[0mbook\u001b[0m\u001b[1;33m)\u001b[0m\u001b[1;33m)\u001b[0m\u001b[1;33m.\u001b[0m\u001b[0mmost_common\u001b[0m\u001b[1;33m(\u001b[0m\u001b[1;36m10\u001b[0m\u001b[1;33m)\u001b[0m \u001b[1;32mfor\u001b[0m \u001b[0mbook\u001b[0m \u001b[1;32min\u001b[0m \u001b[0mgb\u001b[0m\u001b[1;33m.\u001b[0m\u001b[0mfileids\u001b[0m\u001b[1;33m(\u001b[0m\u001b[1;33m)\u001b[0m\u001b[1;33m]\u001b[0m\u001b[1;33m)\u001b[0m\u001b[1;33m\u001b[0m\u001b[0m\n\u001b[0m",
      "\u001b[0;31mAttributeError\u001b[0m: 'set' object has no attribute 'extend'"
     ]
    }
   ],
   "source": [
    "total_set.extend([w for w,c in nltk.FreqDist(gb.words(book)).most_common(10) for book in gb.fileids()])"
   ]
  },
  {
   "cell_type": "code",
   "execution_count": 27,
   "metadata": {
    "collapsed": true
   },
   "outputs": [],
   "source": [
    "common_list = [w for w,c in nltk.FreqDist(gb.words(book)).most_common(10) for book in gb.fileids()]"
   ]
  },
  {
   "cell_type": "code",
   "execution_count": 28,
   "metadata": {
    "collapsed": false
   },
   "outputs": [
    {
     "data": {
      "text/plain": [
       "[',',\n",
       " ',',\n",
       " ',',\n",
       " ',',\n",
       " ',',\n",
       " ',',\n",
       " ',',\n",
       " ',',\n",
       " ',',\n",
       " ',',\n",
       " ',',\n",
       " ',',\n",
       " ',',\n",
       " ',',\n",
       " ',',\n",
       " ',',\n",
       " ',',\n",
       " ',',\n",
       " '.',\n",
       " '.',\n",
       " '.',\n",
       " '.',\n",
       " '.',\n",
       " '.',\n",
       " '.',\n",
       " '.',\n",
       " '.',\n",
       " '.',\n",
       " '.',\n",
       " '.',\n",
       " '.',\n",
       " '.',\n",
       " '.',\n",
       " '.',\n",
       " '.',\n",
       " '.',\n",
       " 'to',\n",
       " 'to',\n",
       " 'to',\n",
       " 'to',\n",
       " 'to',\n",
       " 'to',\n",
       " 'to',\n",
       " 'to',\n",
       " 'to',\n",
       " 'to',\n",
       " 'to',\n",
       " 'to',\n",
       " 'to',\n",
       " 'to',\n",
       " 'to',\n",
       " 'to',\n",
       " 'to',\n",
       " 'to',\n",
       " 'the',\n",
       " 'the',\n",
       " 'the',\n",
       " 'the',\n",
       " 'the',\n",
       " 'the',\n",
       " 'the',\n",
       " 'the',\n",
       " 'the',\n",
       " 'the',\n",
       " 'the',\n",
       " 'the',\n",
       " 'the',\n",
       " 'the',\n",
       " 'the',\n",
       " 'the',\n",
       " 'the',\n",
       " 'the',\n",
       " 'and',\n",
       " 'and',\n",
       " 'and',\n",
       " 'and',\n",
       " 'and',\n",
       " 'and',\n",
       " 'and',\n",
       " 'and',\n",
       " 'and',\n",
       " 'and',\n",
       " 'and',\n",
       " 'and',\n",
       " 'and',\n",
       " 'and',\n",
       " 'and',\n",
       " 'and',\n",
       " 'and',\n",
       " 'and',\n",
       " 'of',\n",
       " 'of',\n",
       " 'of',\n",
       " 'of',\n",
       " 'of',\n",
       " 'of',\n",
       " 'of',\n",
       " 'of',\n",
       " 'of',\n",
       " 'of',\n",
       " 'of',\n",
       " 'of',\n",
       " 'of',\n",
       " 'of',\n",
       " 'of',\n",
       " 'of',\n",
       " 'of',\n",
       " 'of',\n",
       " 'I',\n",
       " 'I',\n",
       " 'I',\n",
       " 'I',\n",
       " 'I',\n",
       " 'I',\n",
       " 'I',\n",
       " 'I',\n",
       " 'I',\n",
       " 'I',\n",
       " 'I',\n",
       " 'I',\n",
       " 'I',\n",
       " 'I',\n",
       " 'I',\n",
       " 'I',\n",
       " 'I',\n",
       " 'I',\n",
       " 'a',\n",
       " 'a',\n",
       " 'a',\n",
       " 'a',\n",
       " 'a',\n",
       " 'a',\n",
       " 'a',\n",
       " 'a',\n",
       " 'a',\n",
       " 'a',\n",
       " 'a',\n",
       " 'a',\n",
       " 'a',\n",
       " 'a',\n",
       " 'a',\n",
       " 'a',\n",
       " 'a',\n",
       " 'a',\n",
       " 'was',\n",
       " 'was',\n",
       " 'was',\n",
       " 'was',\n",
       " 'was',\n",
       " 'was',\n",
       " 'was',\n",
       " 'was',\n",
       " 'was',\n",
       " 'was',\n",
       " 'was',\n",
       " 'was',\n",
       " 'was',\n",
       " 'was',\n",
       " 'was',\n",
       " 'was',\n",
       " 'was',\n",
       " 'was',\n",
       " 'her',\n",
       " 'her',\n",
       " 'her',\n",
       " 'her',\n",
       " 'her',\n",
       " 'her',\n",
       " 'her',\n",
       " 'her',\n",
       " 'her',\n",
       " 'her',\n",
       " 'her',\n",
       " 'her',\n",
       " 'her',\n",
       " 'her',\n",
       " 'her',\n",
       " 'her',\n",
       " 'her',\n",
       " 'her']"
      ]
     },
     "execution_count": 28,
     "metadata": {},
     "output_type": "execute_result"
    }
   ],
   "source": [
    "common_list"
   ]
  },
  {
   "cell_type": "code",
   "execution_count": 29,
   "metadata": {
    "collapsed": true
   },
   "outputs": [],
   "source": [
    "common_list = []\n",
    "for book in gb.fileids():\n",
    "    common_list.extend([w for w,c in nltk.FreqDist(gb.words(book)).most_common(10)])\n",
    "total_set = set(common_list)    "
   ]
  },
  {
   "cell_type": "code",
   "execution_count": 30,
   "metadata": {
    "collapsed": false
   },
   "outputs": [
    {
     "data": {
      "text/plain": [
       "{'\"',\n",
       " \"'\",\n",
       " ',',\n",
       " '-',\n",
       " '.',\n",
       " ':',\n",
       " ';',\n",
       " '?',\n",
       " 'And',\n",
       " 'I',\n",
       " 'a',\n",
       " 'and',\n",
       " 'he',\n",
       " 'her',\n",
       " 'his',\n",
       " 'in',\n",
       " 'it',\n",
       " 'of',\n",
       " 'she',\n",
       " 'that',\n",
       " 'the',\n",
       " 'to',\n",
       " 'was',\n",
       " 'with',\n",
       " 'you'}"
      ]
     },
     "execution_count": 30,
     "metadata": {},
     "output_type": "execute_result"
    }
   ],
   "source": [
    "total_set"
   ]
  }
 ],
 "metadata": {
  "kernelspec": {
   "display_name": "Python 3",
   "language": "python",
   "name": "python3"
  },
  "language_info": {
   "codemirror_mode": {
    "name": "ipython",
    "version": 3
   },
   "file_extension": ".py",
   "mimetype": "text/x-python",
   "name": "python",
   "nbconvert_exporter": "python",
   "pygments_lexer": "ipython3",
   "version": "3.6.0"
  }
 },
 "nbformat": 4,
 "nbformat_minor": 2
}
